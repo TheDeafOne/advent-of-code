{
 "cells": [
  {
   "cell_type": "markdown",
   "metadata": {},
   "source": [
    "## Part 1"
   ]
  },
  {
   "cell_type": "markdown",
   "metadata": {},
   "source": [
    "--- Day 1: Historian Hysteria ---\n",
    "The Chief Historian is always present for the big Christmas sleigh launch, but nobody has seen him in months! Last anyone heard, he was visiting locations that are historically significant to the North Pole; a group of Senior Historians has asked you to accompany them as they check the places they think he was most likely to visit.\n",
    "\n",
    "As each location is checked, they will mark it on their list with a star. They figure the Chief Historian must be in one of the first fifty places they'll look, so in order to save Christmas, you need to help them get fifty stars on their list before Santa takes off on December 25th.\n",
    "\n",
    "Collect stars by solving puzzles. Two puzzles will be made available on each day in the Advent calendar; the second puzzle is unlocked when you complete the first. Each puzzle grants one star. Good luck!\n",
    "\n",
    "You haven't even left yet and the group of Elvish Senior Historians has already hit a problem: their list of locations to check is currently empty. Eventually, someone decides that the best place to check first would be the Chief Historian's office.\n",
    "\n",
    "Upon pouring into the office, everyone confirms that the Chief Historian is indeed nowhere to be found. Instead, the Elves discover an assortment of notes and lists of historically significant locations! This seems to be the planning the Chief Historian was doing before he left. Perhaps these notes can be used to determine which locations to search?\n",
    "\n",
    "Throughout the Chief's office, the historically significant locations are listed not by name but by a unique number called the location ID. To make sure they don't miss anything, The Historians split into two groups, each searching the office and trying to create their own complete list of location IDs.\n",
    "\n",
    "There's just one problem: by holding the two lists up side by side (your puzzle input), it quickly becomes clear that the lists aren't very similar. Maybe you can help The Historians reconcile their lists?\n",
    "\n",
    "For example:\n",
    "\n",
    "3   4\n",
    "4   3\n",
    "2   5\n",
    "1   3\n",
    "3   9\n",
    "3   3\n",
    "Maybe the lists are only off by a small amount! To find out, pair up the numbers and measure how far apart they are. Pair up the smallest number in the left list with the smallest number in the right list, then the second-smallest left number with the second-smallest right number, and so on.\n",
    "\n",
    "Within each pair, figure out how far apart the two numbers are; you'll need to add up all of those distances. For example, if you pair up a 3 from the left list with a 7 from the right list, the distance apart is 4; if you pair up a 9 with a 3, the distance apart is 6.\n",
    "\n",
    "In the example list above, the pairs and distances would be as follows:\n",
    "\n",
    "The smallest number in the left list is 1, and the smallest number in the right list is 3. The distance between them is 2.\n",
    "The second-smallest number in the left list is 2, and the second-smallest number in the right list is another 3. The distance between them is 1.\n",
    "The third-smallest number in both lists is 3, so the distance between them is 0.\n",
    "The next numbers to pair up are 3 and 4, a distance of 1.\n",
    "The fifth-smallest numbers in each list are 3 and 5, a distance of 2.\n",
    "Finally, the largest number in the left list is 4, while the largest number in the right list is 9; these are a distance 5 apart.\n",
    "To find the total distance between the left list and the right list, add up the distances between all of the pairs you found. In the example above, this is 2 + 1 + 0 + 1 + 2 + 5, a total distance of 11!\n",
    "\n",
    "Your actual left and right lists contain many location IDs. What is the total distance between your lists?"
   ]
  },
  {
   "cell_type": "markdown",
   "metadata": {},
   "source": [
    "#### Though Process\n",
    "Basically, given two lists sort both, take the difference of each pairing at each index, and sum that value\n",
    "My initial thought is to just sort both lists, zip them, take the difference and sum them. This is O(nlog(n)) time, O(n) space"
   ]
  },
  {
   "cell_type": "markdown",
   "metadata": {},
   "source": [
    "Implementation"
   ]
  },
  {
   "cell_type": "code",
   "execution_count": 58,
   "metadata": {},
   "outputs": [],
   "source": [
    "list1, list2 = [3,4,2,1,3,3], [4,3,5,3,9,3]"
   ]
  },
  {
   "cell_type": "code",
   "execution_count": null,
   "metadata": {},
   "outputs": [],
   "source": [
    "inp = open('input.txt', 'r').read().replace('   ','\\n').split('\\n')\n",
    "list1 = list(map(int, inp[::2]))\n",
    "list2 = list(map(int, inp[1::2]))\n"
   ]
  },
  {
   "cell_type": "code",
   "execution_count": null,
   "metadata": {},
   "outputs": [
    {
     "data": {
      "text/plain": [
       "1651298"
      ]
     },
     "execution_count": 8,
     "metadata": {},
     "output_type": "execute_result"
    }
   ],
   "source": [
    "list1.sort()\n",
    "list2.sort()\n",
    "paired = zip(list1, list2)\n",
    "distances = [abs(a-b) for a,b in paired]\n",
    "total_distance = sum(distances)\n",
    "total_distance"
   ]
  },
  {
   "cell_type": "markdown",
   "metadata": {},
   "source": [
    "1) the answer is 1651298"
   ]
  },
  {
   "cell_type": "markdown",
   "metadata": {},
   "source": [
    "Golf the Solution"
   ]
  },
  {
   "cell_type": "code",
   "execution_count": null,
   "metadata": {},
   "outputs": [
    {
     "data": {
      "text/plain": [
       "1651298"
      ]
     },
     "execution_count": 50,
     "metadata": {},
     "output_type": "execute_result"
    }
   ],
   "source": [
    "# get all unsorted pairs: [map(int,l.split())for l in open('input.txt')]\n",
    "# l=open('input.txt').read().replace('\\n','   ').split('   ')\n",
    "# a,b=map(sorted,[l[::2],l[1::2]])\n",
    "\n",
    "# 94 bytes:\n",
    "sum(abs(a-b)for a,b in zip(*map(sorted,zip(*[map(int,l.split())for l in open('input.txt')]))))"
   ]
  },
  {
   "cell_type": "markdown",
   "metadata": {},
   "source": [
    "## Part 2"
   ]
  },
  {
   "cell_type": "markdown",
   "metadata": {},
   "source": [
    "--- Part Two ---\n",
    "Your analysis only confirmed what everyone feared: the two lists of location IDs are indeed very different.\n",
    "\n",
    "Or are they?\n",
    "\n",
    "The Historians can't agree on which group made the mistakes or how to read most of the Chief's handwriting, but in the commotion you notice an interesting detail: a lot of location IDs appear in both lists! Maybe the other numbers aren't location IDs at all but rather misinterpreted handwriting.\n",
    "\n",
    "This time, you'll need to figure out exactly how often each number from the left list appears in the right list. Calculate a total similarity score by adding up each number in the left list after multiplying it by the number of times that number appears in the right list.\n",
    "\n",
    "Here are the same example lists again:\n",
    "\n",
    "3   4\n",
    "4   3\n",
    "2   5\n",
    "1   3\n",
    "3   9\n",
    "3   3\n",
    "For these example lists, here is the process of finding the similarity score:\n",
    "\n",
    "The first number in the left list is 3. It appears in the right list three times, so the similarity score increases by 3 * 3 = 9.\n",
    "The second number in the left list is 4. It appears in the right list once, so the similarity score increases by 4 * 1 = 4.\n",
    "The third number in the left list is 2. It does not appear in the right list, so the similarity score does not increase (2 * 0 = 0).\n",
    "The fourth number, 1, also does not appear in the right list.\n",
    "The fifth number, 3, appears in the right list three times; the similarity score increases by 9.\n",
    "The last number, 3, appears in the right list three times; the similarity score again increases by 9.\n",
    "So, for these example lists, the similarity score at the end of this process is 31 (9 + 4 + 0 + 0 + 9 + 9)."
   ]
  },
  {
   "cell_type": "markdown",
   "metadata": {},
   "source": [
    "#### Though Process\n",
    "Get a dictionary of the right list with the key value pairing being the number itself and the number of times it appears. We can ignore the relevance of the numbers in the first list to the second list because numbers in the first list that don't appear in the second list will be ignored (n * 0 = 9). Then cycle through the left list, checking against this dictionary, generating a new list. Finally, sum this new list.\n",
    "\n",
    "This is O(n) time, since we're iterating through the second list once to make the count dictionary, and the first list once to sum up the multiplied values between the count_dict and the first list values.\n",
    "This is O(n) space"
   ]
  },
  {
   "cell_type": "markdown",
   "metadata": {},
   "source": [
    "Implementation"
   ]
  },
  {
   "cell_type": "code",
   "execution_count": 76,
   "metadata": {},
   "outputs": [],
   "source": [
    "inp = open('input.txt', 'r').read().replace('   ','\\n').split('\\n')\n",
    "list1 = list(map(int, inp[::2]))\n",
    "list2 = list(map(int, inp[1::2]))"
   ]
  },
  {
   "cell_type": "code",
   "execution_count": 77,
   "metadata": {},
   "outputs": [
    {
     "data": {
      "text/plain": [
       "21306195"
      ]
     },
     "execution_count": 77,
     "metadata": {},
     "output_type": "execute_result"
    }
   ],
   "source": [
    "count_dict = {}\n",
    "for value in list2:\n",
    "    if value not in count_dict:\n",
    "        count_dict[value] = 0\n",
    "    count_dict[value] += 1\n",
    "\n",
    "l = 0\n",
    "for value in list1:\n",
    "    l+=value * count_dict.get(value,0)\n",
    "l"
   ]
  },
  {
   "cell_type": "markdown",
   "metadata": {},
   "source": [
    "2) The answer is 21306195"
   ]
  },
  {
   "cell_type": "markdown",
   "metadata": {},
   "source": [
    "Golf the Solution"
   ]
  },
  {
   "cell_type": "code",
   "execution_count": null,
   "metadata": {},
   "outputs": [
    {
     "data": {
      "text/plain": [
       "21306195"
      ]
     },
     "execution_count": 84,
     "metadata": {},
     "output_type": "execute_result"
    }
   ],
   "source": [
    "# 87 bytes\n",
    "a,b=zip(*[map(int,l.split())for l in open('input.txt')]);sum([b.count(d)*d for d in a])"
   ]
  }
 ],
 "metadata": {
  "kernelspec": {
   "display_name": "Python 3",
   "language": "python",
   "name": "python3"
  },
  "language_info": {
   "codemirror_mode": {
    "name": "ipython",
    "version": 3
   },
   "file_extension": ".py",
   "mimetype": "text/x-python",
   "name": "python",
   "nbconvert_exporter": "python",
   "pygments_lexer": "ipython3",
   "version": "3.13.0"
  }
 },
 "nbformat": 4,
 "nbformat_minor": 2
}
